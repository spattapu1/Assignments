{
 "cells": [
  {
   "cell_type": "code",
   "execution_count": 2,
   "id": "07ef6859-8f9f-4e6f-be80-048ea2959ba8",
   "metadata": {},
   "outputs": [],
   "source": [
    "import pandas as pd\n",
    "import numpy as np\n",
    "\n",
    "df = pd.read_csv('Average_Salary_by_Job_Classification.csv')\n",
    "df_2 = pd.read_csv('controlledexperiment.csv')"
   ]
  },
  {
   "cell_type": "code",
   "execution_count": 3,
   "id": "1723e0e5",
   "metadata": {},
   "outputs": [
    {
     "name": "stderr",
     "output_type": "stream",
     "text": [
      "<>:2: SyntaxWarning: invalid escape sequence '\\$'\n",
      "<>:3: SyntaxWarning: invalid escape sequence '\\,'\n",
      "<>:2: SyntaxWarning: invalid escape sequence '\\$'\n",
      "<>:3: SyntaxWarning: invalid escape sequence '\\,'\n",
      "/var/folders/9q/rmwtnl614cz0kwkv_mbv5h780000gn/T/ipykernel_46655/3830997709.py:2: SyntaxWarning: invalid escape sequence '\\$'\n",
      "  df = df.replace({'\\$': ''}, regex=True)\n",
      "/var/folders/9q/rmwtnl614cz0kwkv_mbv5h780000gn/T/ipykernel_46655/3830997709.py:3: SyntaxWarning: invalid escape sequence '\\,'\n",
      "  df = df.replace({'\\,': ''}, regex=True)\n"
     ]
    },
    {
     "data": {
      "text/html": [
       "<div>\n",
       "<style scoped>\n",
       "    .dataframe tbody tr th:only-of-type {\n",
       "        vertical-align: middle;\n",
       "    }\n",
       "\n",
       "    .dataframe tbody tr th {\n",
       "        vertical-align: top;\n",
       "    }\n",
       "\n",
       "    .dataframe thead th {\n",
       "        text-align: right;\n",
       "    }\n",
       "</style>\n",
       "<table border=\"1\" class=\"dataframe\">\n",
       "  <thead>\n",
       "    <tr style=\"text-align: right;\">\n",
       "      <th></th>\n",
       "      <th>Position Title</th>\n",
       "      <th>Position Class Code</th>\n",
       "      <th>Grade</th>\n",
       "      <th>Average of Base Salary</th>\n",
       "      <th>Number of Employees</th>\n",
       "    </tr>\n",
       "  </thead>\n",
       "  <tbody>\n",
       "    <tr>\n",
       "      <th>0</th>\n",
       "      <td>Information Technology Expert</td>\n",
       "      <td>550</td>\n",
       "      <td>32</td>\n",
       "      <td>146925.34</td>\n",
       "      <td>9</td>\n",
       "    </tr>\n",
       "    <tr>\n",
       "      <th>1</th>\n",
       "      <td>Accountant/Auditor II</td>\n",
       "      <td>210</td>\n",
       "      <td>21</td>\n",
       "      <td>82742.44</td>\n",
       "      <td>2</td>\n",
       "    </tr>\n",
       "    <tr>\n",
       "      <th>2</th>\n",
       "      <td>Veterinary Assistant</td>\n",
       "      <td>206513</td>\n",
       "      <td>15</td>\n",
       "      <td>45925.44</td>\n",
       "      <td>2</td>\n",
       "    </tr>\n",
       "    <tr>\n",
       "      <th>3</th>\n",
       "      <td>Police Aide</td>\n",
       "      <td>3506</td>\n",
       "      <td>15</td>\n",
       "      <td>58628.63</td>\n",
       "      <td>15</td>\n",
       "    </tr>\n",
       "    <tr>\n",
       "      <th>4</th>\n",
       "      <td>ERP Functional Business Analyst</td>\n",
       "      <td>100546</td>\n",
       "      <td>30</td>\n",
       "      <td>133797.25</td>\n",
       "      <td>3</td>\n",
       "    </tr>\n",
       "  </tbody>\n",
       "</table>\n",
       "</div>"
      ],
      "text/plain": [
       "                    Position Title  Position Class Code  Grade  \\\n",
       "0    Information Technology Expert                  550     32   \n",
       "1            Accountant/Auditor II                  210     21   \n",
       "2             Veterinary Assistant               206513     15   \n",
       "3                      Police Aide                 3506     15   \n",
       "4  ERP Functional Business Analyst               100546     30   \n",
       "\n",
       "   Average of Base Salary  Number of Employees  \n",
       "0               146925.34                    9  \n",
       "1                82742.44                    2  \n",
       "2                45925.44                    2  \n",
       "3                58628.63                   15  \n",
       "4               133797.25                    3  "
      ]
     },
     "execution_count": 3,
     "metadata": {},
     "output_type": "execute_result"
    }
   ],
   "source": [
    "# Cleaned Dataframe\n",
    "df = df.replace({'\\$': ''}, regex=True) \n",
    "df = df.replace({'\\,': ''}, regex=True) \n",
    "df['Average of Base Salary'] = df['Average of Base Salary'].astype(float)\n",
    "df['Grade'] = pd.to_numeric(df['Grade'], errors='coerce')\n",
    "df = df.dropna()\n",
    "df['Grade'] = df['Grade'].astype(int)\n",
    "df.head()"
   ]
  },
  {
   "cell_type": "code",
   "execution_count": 4,
   "id": "74f8fa34",
   "metadata": {},
   "outputs": [],
   "source": [
    "# Random Sampling\n",
    "random_indices = np.random.uniform(0, len(df), 35).astype(int)\n",
    "df = df.iloc[random_indices]"
   ]
  },
  {
   "cell_type": "code",
   "execution_count": 19,
   "id": "22451d9c",
   "metadata": {},
   "outputs": [
    {
     "data": {
      "text/plain": [
       "np.float64(86615.79)"
      ]
     },
     "execution_count": 19,
     "metadata": {},
     "output_type": "execute_result"
    }
   ],
   "source": [
    "#Sample Means - Does having a higher salary mean that your job is a higher grade? \n",
    "#Base Salary \n",
    "y_bar = round(df['Average of Base Salary'].sum()/len(df),2)\n",
    "y_bar"
   ]
  },
  {
   "cell_type": "code",
   "execution_count": 18,
   "id": "7ca4dfd1",
   "metadata": {},
   "outputs": [
    {
     "data": {
      "text/plain": [
       "np.float64(21.63)"
      ]
     },
     "execution_count": 18,
     "metadata": {},
     "output_type": "execute_result"
    }
   ],
   "source": [
    "#Grade\n",
    "x_bar = round(df['Grade'].sum()/len(df),2)\n",
    "x_bar"
   ]
  },
  {
   "cell_type": "code",
   "execution_count": 13,
   "id": "8c6078fb",
   "metadata": {},
   "outputs": [
    {
     "name": "stdout",
     "output_type": "stream",
     "text": [
      "137359.11166764703\n"
     ]
    }
   ],
   "source": [
    "#Covariance Calculation \n",
    "summation = 0\n",
    "for x, y in zip(df['Grade'], df['Average of Base Salary']):\n",
    "    summation += (x - x_bar) * (y - y_bar)\n",
    "\n",
    "covariance = summation / (len(df) - 1)\n",
    "print(covariance)\n"
   ]
  },
  {
   "cell_type": "code",
   "execution_count": 20,
   "id": "c452ba8d",
   "metadata": {},
   "outputs": [
    {
     "name": "stdout",
     "output_type": "stream",
     "text": [
      "-0.7499999999999996\n"
     ]
    }
   ],
   "source": [
    "# Question 1 Covariance and Mean Calculations \n",
    "# Social Media Use\n",
    "x_bar2 = round(df_2['X'].sum()/len(df_2),2) \n",
    "# How productive they feel \n",
    "y_bar2 = round(df_2['Y'].sum()/len(df_2),2)\n",
    "summation1 = 0\n",
    "for x, y in zip(df_2['X'], df_2['Y']):\n",
    "    summation1 += (x - x_bar2) * (y - y_bar2)\n",
    "\n",
    "covariance = summation1 / (len(df_2) - 1)\n",
    "print(covariance)"
   ]
  },
  {
   "cell_type": "code",
   "execution_count": 21,
   "id": "5e911b44",
   "metadata": {},
   "outputs": [
    {
     "data": {
      "text/plain": [
       "np.float64(3.66)"
      ]
     },
     "execution_count": 21,
     "metadata": {},
     "output_type": "execute_result"
    }
   ],
   "source": [
    "x_bar2"
   ]
  },
  {
   "cell_type": "markdown",
   "id": "b4414678",
   "metadata": {},
   "source": []
  }
 ],
 "metadata": {
  "kernelspec": {
   "display_name": "Python 3 (ipykernel)",
   "language": "python",
   "name": "python3"
  },
  "language_info": {
   "codemirror_mode": {
    "name": "ipython",
    "version": 3
   },
   "file_extension": ".py",
   "mimetype": "text/x-python",
   "name": "python",
   "nbconvert_exporter": "python",
   "pygments_lexer": "ipython3",
   "version": "3.12.8"
  }
 },
 "nbformat": 4,
 "nbformat_minor": 5
}
